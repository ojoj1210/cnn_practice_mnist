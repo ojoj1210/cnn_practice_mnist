{
 "cells": [
  {
   "cell_type": "code",
   "execution_count": null,
   "id": "6864929f-c45e-4484-a940-beed681342f3",
   "metadata": {},
   "outputs": [],
   "source": [
    "import keras\n",
    "from keras.datasets import mnist\n",
    "\n",
    "import numpy as np\n",
    "from PIL import Image, ImageOps\n",
    "import os\n",
    "\n",
    "def save_image(filename, data_array):\n",
    "    im = Image.fromarray(data_array.astype('uint8'))\n",
    "    im_invert = ImageOps.invert(im)\n",
    "    im_invert.save(filename)\n",
    "\n",
    "# Load MNIST Data\n",
    "(x_train, y_train), (x_test, y_test) = mnist.load_data()\n",
    "\n",
    "DIR_NAME = \"JPEGImages\"\n",
    "if os.path.exists(DIR_NAME) == False:\n",
    "    os.mkdir(DIR_NAME)\n",
    "\n",
    "# Save Images\n",
    "i = 0\n",
    "for li in [x_train, x_test]:\n",
    "    print(\"[---------------------------------------------------------------]\")\n",
    "    for x in li:\n",
    "        filename = \"{0}/{1:05d}.jpg\".format(DIR_NAME,i)\n",
    "        print(filename)\n",
    "        save_image(filename, x)\n",
    "        i += 1"
   ]
  }
 ],
 "metadata": {
  "kernelspec": {
   "display_name": "Python 3 (ipykernel)",
   "language": "python",
   "name": "python3"
  },
  "language_info": {
   "codemirror_mode": {
    "name": "ipython",
    "version": 3
   },
   "file_extension": ".py",
   "mimetype": "text/x-python",
   "name": "python",
   "nbconvert_exporter": "python",
   "pygments_lexer": "ipython3",
   "version": "3.12.6"
  }
 },
 "nbformat": 4,
 "nbformat_minor": 5
}
